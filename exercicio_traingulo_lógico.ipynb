{
  "nbformat": 4,
  "nbformat_minor": 0,
  "metadata": {
    "colab": {
      "provenance": [],
      "authorship_tag": "ABX9TyPNvcVTgyov2c0aUY7jKSMq",
      "include_colab_link": true
    },
    "kernelspec": {
      "name": "python3",
      "display_name": "Python 3"
    },
    "language_info": {
      "name": "python"
    }
  },
  "cells": [
    {
      "cell_type": "markdown",
      "metadata": {
        "id": "view-in-github",
        "colab_type": "text"
      },
      "source": [
        "<a href=\"https://colab.research.google.com/github/DanielDiogo98/Aula_PA/blob/main/exercicio_traingulo_l%C3%B3gico.ipynb\" target=\"_parent\"><img src=\"https://colab.research.google.com/assets/colab-badge.svg\" alt=\"Open In Colab\"/></a>"
      ]
    },
    {
      "cell_type": "markdown",
      "source": [
        "# ***Triangulo lógico***"
      ],
      "metadata": {
        "id": "Lf55xl1VTmOj"
      }
    },
    {
      "cell_type": "code",
      "source": [
        "a = float(input(\"digite o valor de a:\"))\n",
        "b = float(input(\"digite o valor de b:\"))\n",
        "c = float(input(\"digite o valor de c:\"))\n",
        "\n"
      ],
      "metadata": {
        "colab": {
          "base_uri": "https://localhost:8080/"
        },
        "id": "M0OS064PUP21",
        "outputId": "154f84bc-7f04-4c46-9883-8a6a0f8ea687"
      },
      "execution_count": 30,
      "outputs": [
        {
          "name": "stdout",
          "output_type": "stream",
          "text": [
            "digite o valor de a:4\n",
            "digite o valor de b:5\n",
            "digite o valor de c:5\n"
          ]
        }
      ]
    },
    {
      "cell_type": "code",
      "source": [
        "triangulo = ((c<a+b) and (a<b+c) and(b<a+c))\n",
        "triangulo"
      ],
      "metadata": {
        "colab": {
          "base_uri": "https://localhost:8080/"
        },
        "id": "RhnFciaETzzF",
        "outputId": "955c8f41-045b-44fe-9a1f-285446cf269b"
      },
      "execution_count": 31,
      "outputs": [
        {
          "output_type": "execute_result",
          "data": {
            "text/plain": [
              "True"
            ]
          },
          "metadata": {},
          "execution_count": 31
        }
      ]
    },
    {
      "cell_type": "markdown",
      "source": [
        "## ***o Triangulo é um Equilatero(lados iguais)***"
      ],
      "metadata": {
        "id": "svLw3SogVGX-"
      }
    },
    {
      "cell_type": "code",
      "source": [
        "((a==b) and (b==c)) and (triangulo)"
      ],
      "metadata": {
        "colab": {
          "base_uri": "https://localhost:8080/"
        },
        "id": "5Bwd818OVD-p",
        "outputId": "f23a46b7-dfa6-4607-ab40-e6b69e1ac0f0"
      },
      "execution_count": 27,
      "outputs": [
        {
          "output_type": "execute_result",
          "data": {
            "text/plain": [
              "False"
            ]
          },
          "metadata": {},
          "execution_count": 27
        }
      ]
    },
    {
      "cell_type": "markdown",
      "source": [
        "# ***o Triangulo é um Isósceles(2 iguais e 1 diferente):***"
      ],
      "metadata": {
        "id": "lpcuYYrUVreV"
      }
    },
    {
      "cell_type": "code",
      "source": [
        "((a==b) and (c!=a) or (a==c) and ( b!=c) or (b==c) and (a!=b)) and (triangulo)"
      ],
      "metadata": {
        "colab": {
          "base_uri": "https://localhost:8080/"
        },
        "id": "YJivuqQmVD9X",
        "outputId": "c14d3487-bf7f-4fc4-ae8c-7125cd50b67b"
      },
      "execution_count": 32,
      "outputs": [
        {
          "output_type": "execute_result",
          "data": {
            "text/plain": [
              "True"
            ]
          },
          "metadata": {},
          "execution_count": 32
        }
      ]
    },
    {
      "cell_type": "markdown",
      "source": [
        "# ***o Triangulo é um Escaleno(3 diferentes)***"
      ],
      "metadata": {
        "id": "kxAgqv2eXrfC"
      }
    },
    {
      "cell_type": "code",
      "source": [
        "((a!=b) and (b!=c) and (c!=a)) and (triangulo)"
      ],
      "metadata": {
        "colab": {
          "base_uri": "https://localhost:8080/"
        },
        "id": "Mm7OvUwrXyak",
        "outputId": "9c8d5423-54f4-40f4-d495-82d2d4ba719c"
      },
      "execution_count": 29,
      "outputs": [
        {
          "output_type": "execute_result",
          "data": {
            "text/plain": [
              "True"
            ]
          },
          "metadata": {},
          "execution_count": 29
        }
      ]
    }
  ]
}