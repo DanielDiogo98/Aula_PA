{
  "nbformat": 4,
  "nbformat_minor": 0,
  "metadata": {
    "colab": {
      "provenance": [],
      "authorship_tag": "ABX9TyM23WSRI1MO5y6hL7OahYjO",
      "include_colab_link": true
    },
    "kernelspec": {
      "name": "python3",
      "display_name": "Python 3"
    },
    "language_info": {
      "name": "python"
    }
  },
  "cells": [
    {
      "cell_type": "markdown",
      "metadata": {
        "id": "view-in-github",
        "colab_type": "text"
      },
      "source": [
        "<a href=\"https://colab.research.google.com/github/DanielDiogo98/Aula_PA/blob/main/La%C3%A7os_de_Repeti%C3%A7%C3%A3o.ipynb\" target=\"_parent\"><img src=\"https://colab.research.google.com/assets/colab-badge.svg\" alt=\"Open In Colab\"/></a>"
      ]
    },
    {
      "cell_type": "code",
      "execution_count": null,
      "metadata": {
        "id": "Rfm3-2YWYk3t"
      },
      "outputs": [],
      "source": [
        "print(\"Bom dia\")\n",
        "print(\"Bom dia\")\n",
        "print(\"Bom dia\")\n",
        "print(\"Bom dia\")\n",
        "print(\"Bom dia\")\n",
        "print(\"Bom dia\")\n",
        "print(\"Bom dia\")\n",
        "print(\"Bom dia\")\n",
        "print(\"Bom dia\")\n",
        "print(\"Bom dia\")\n"
      ]
    },
    {
      "cell_type": "code",
      "source": [
        "for i in range(10):\n",
        "  print( i+1,\" - Bom dia!\")"
      ],
      "metadata": {
        "id": "F_EWl1B6Z8O6"
      },
      "execution_count": null,
      "outputs": []
    },
    {
      "cell_type": "code",
      "source": [
        "for i in range(1,31):\n",
        "  if i%2==1 :\n",
        "    print (i)\n"
      ],
      "metadata": {
        "colab": {
          "base_uri": "https://localhost:8080/"
        },
        "id": "uixs1Swwbgbf",
        "outputId": "fbc86090-59af-40eb-c2ce-5f9833817937"
      },
      "execution_count": 10,
      "outputs": [
        {
          "output_type": "stream",
          "name": "stdout",
          "text": [
            "1\n",
            "3\n",
            "5\n",
            "7\n",
            "9\n",
            "11\n",
            "13\n",
            "15\n",
            "17\n",
            "19\n",
            "21\n",
            "23\n",
            "25\n",
            "27\n",
            "29\n"
          ]
        }
      ]
    },
    {
      "cell_type": "code",
      "source": [
        "n_i= int(input(\"digite o   seu primeiro numero:\"))\n",
        "n_f= int(input(\"Digite seu ultimo numero\"))\n",
        "for i in range (n_i,n_f):\n",
        "  if i%2==1 :\n",
        "    print (i)"
      ],
      "metadata": {
        "colab": {
          "base_uri": "https://localhost:8080/"
        },
        "id": "yRrbw165fYy7",
        "outputId": "27011ded-3974-42e8-9231-225e0e757e79"
      },
      "execution_count": 22,
      "outputs": [
        {
          "output_type": "stream",
          "name": "stdout",
          "text": [
            "digite o   seu primeiro numero:10\n",
            "Digite seu ultimo numero20\n",
            "11\n",
            "13\n",
            "15\n",
            "17\n",
            "19\n"
          ]
        }
      ]
    },
    {
      "cell_type": "code",
      "source": [
        "soma = 0\n",
        "for i in range(1,100+1):\n",
        "  if i%2==1 :\n",
        "     soma = soma + i\n",
        "\n",
        "print(soma)\n",
        "\n",
        "\n"
      ],
      "metadata": {
        "colab": {
          "base_uri": "https://localhost:8080/"
        },
        "id": "aady_C6CjdFK",
        "outputId": "02842716-0bfc-42e6-8ae8-84e114d836dc"
      },
      "execution_count": 25,
      "outputs": [
        {
          "output_type": "stream",
          "name": "stdout",
          "text": [
            "2500\n"
          ]
        }
      ]
    },
    {
      "cell_type": "code",
      "source": [
        "numero = int(input('Digite um numero'))\n",
        "soma = numero\n",
        "while numero !=0:\n",
        "  numero = int(input('Digite um numero'))\n",
        "  soma += numero\n",
        "print ('Total = ',soma)"
      ],
      "metadata": {
        "colab": {
          "base_uri": "https://localhost:8080/"
        },
        "id": "arykad0Bn1bu",
        "outputId": "a27289a5-c67f-4a1e-e228-0bf9f2cb4209"
      },
      "execution_count": 26,
      "outputs": [
        {
          "output_type": "stream",
          "name": "stdout",
          "text": [
            "Digite um numero1\n",
            "Digite um numero2\n",
            "Digite um numero3\n",
            "Digite um numero4\n",
            "Digite um numero0\n",
            "Total =  10\n"
          ]
        }
      ]
    },
    {
      "cell_type": "code",
      "source": [
        "opcao = 0\n",
        "while opcao != 4 :\n",
        "  print(\"escolha uma das opções:\")\n",
        "  print(\" Digite 1 para opção 1\")\n",
        "  print(\" Digite 2 para opção 2\")\n",
        "  print(\" Digite 3 para opção 3\")\n",
        "  print(\" Digite 4 para sair\")\n",
        "\n",
        "  opcao = int(input(\" Sua opção =>\"))\n",
        "\n",
        "  if opcao == 1:\n",
        "    print(\" você escolheu a opção 1\")\n",
        "  if opcao == 2:\n",
        "    print(\" você escolheu a opção 2\")\n",
        "  if opcao == 3:\n",
        "    print(\" você escolheu a opção 3\")\n",
        "\n"
      ],
      "metadata": {
        "colab": {
          "base_uri": "https://localhost:8080/"
        },
        "id": "G52pCIqkzQoJ",
        "outputId": "6bca93a5-383c-4b43-9932-9923d20e8918"
      },
      "execution_count": 31,
      "outputs": [
        {
          "name": "stdout",
          "output_type": "stream",
          "text": [
            "escolha uma das opções:\n",
            " Digite 1 para opção 1\n",
            " Digite 2 para opção 2\n",
            " Digite 3 para opção 3\n",
            " Digite 4 para sair\n",
            " Sua opção =>2\n",
            " você escolheu a opção 2\n",
            "escolha uma das opções:\n",
            " Digite 1 para opção 1\n",
            " Digite 2 para opção 2\n",
            " Digite 3 para opção 3\n",
            " Digite 4 para sair\n",
            " Sua opção =>3\n",
            " você escolheu a opção 3\n",
            "escolha uma das opções:\n",
            " Digite 1 para opção 1\n",
            " Digite 2 para opção 2\n",
            " Digite 3 para opção 3\n",
            " Digite 4 para sair\n",
            " Sua opção =>4\n"
          ]
        }
      ]
    }
  ]
}