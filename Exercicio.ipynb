{
  "nbformat": 4,
  "nbformat_minor": 0,
  "metadata": {
    "colab": {
      "provenance": [],
      "authorship_tag": "ABX9TyMgzSKyg+4aEzsZ8nBnzcaT",
      "include_colab_link": true
    },
    "kernelspec": {
      "name": "python3",
      "display_name": "Python 3"
    },
    "language_info": {
      "name": "python"
    }
  },
  "cells": [
    {
      "cell_type": "markdown",
      "metadata": {
        "id": "view-in-github",
        "colab_type": "text"
      },
      "source": [
        "<a href=\"https://colab.research.google.com/github/DanielDiogo98/Aula_PA/blob/main/Exercicio.ipynb\" target=\"_parent\"><img src=\"https://colab.research.google.com/assets/colab-badge.svg\" alt=\"Open In Colab\"/></a>"
      ]
    },
    {
      "cell_type": "markdown",
      "source": [
        "## ***Exercicio 1***"
      ],
      "metadata": {
        "id": "a9_WLrZGQNT_"
      }
    },
    {
      "cell_type": "code",
      "execution_count": null,
      "metadata": {
        "id": "oy14RQrsQErM"
      },
      "outputs": [],
      "source": [
        "  valor = float(input(\"coloque seu valor:\"))\n",
        "  qtde = float(input(\"coloque a sua quantidade:\"))\n",
        "  vt = valor * qtde\n",
        "  print(\"o seu valor total é:\", vt)\n",
        "\n"
      ]
    },
    {
      "cell_type": "markdown",
      "source": [],
      "metadata": {
        "id": "1xWjMhTMQKip"
      }
    },
    {
      "cell_type": "markdown",
      "source": [
        "**## Exercicio 2**"
      ],
      "metadata": {
        "id": "zbRmam0hSikX"
      }
    },
    {
      "cell_type": "code",
      "source": [
        "qntdmin = float(input(\"digite o seu valor minimo:\"))\n",
        "qntdmax = float(input(\"digite o seu valor maximo:\"))\n",
        "estmed = (qntdmin + qntdmax)/2\n",
        "print(estmed)\n"
      ],
      "metadata": {
        "id": "wbiG5EzuSl-B"
      },
      "execution_count": null,
      "outputs": []
    },
    {
      "cell_type": "markdown",
      "source": [
        "## **Exercicio 3**"
      ],
      "metadata": {
        "id": "gqC9EjYbTUG5"
      }
    },
    {
      "cell_type": "code",
      "source": [
        "cotacao = float(input(\"digite a sua cotação:\"))\n",
        "valor = float(input(\"digite o valor que deseja converter:\"))\n",
        "\n",
        "dolar = valor / cotacao\n",
        "print(dolar)"
      ],
      "metadata": {
        "id": "I9NjQbagUJzj"
      },
      "execution_count": null,
      "outputs": []
    },
    {
      "cell_type": "markdown",
      "source": [
        "## ***Exercicio 4***"
      ],
      "metadata": {
        "id": "drVtuSQPU48e"
      }
    },
    {
      "cell_type": "markdown",
      "source": [],
      "metadata": {
        "id": "OH5NLaH0U47Y"
      }
    },
    {
      "cell_type": "code",
      "source": [
        "numero_1 = float(input(\"digite o valor do seu primeiro numero:\"))\n",
        "numero_2 = float(input(\"digite o valor do seu segundo numero:\"))\n",
        "numero_3 = float(input(\"digite o valor do seu terceiro numero:\"))\n",
        "numero_4 = float(input(\"digite o valor do seu quarto numero:\"))"
      ],
      "metadata": {
        "colab": {
          "base_uri": "https://localhost:8080/"
        },
        "id": "_saJqH2ZVkRx",
        "outputId": "97a4b9fb-09ab-4b87-e63c-8a27d625c355"
      },
      "execution_count": null,
      "outputs": [
        {
          "name": "stdout",
          "output_type": "stream",
          "text": [
            "digite o valor do seu primeiro numero:9\n",
            "digite o valor do seu segundo numero:3\n",
            "digite o valor do seu terceiro numero:1\n",
            "digite o valor do seu quarto numero:2\n"
          ]
        }
      ]
    },
    {
      "cell_type": "code",
      "source": [
        "q1 = numero_1**2\n",
        "q2 = numero_2**2\n",
        "q3 = numero_3**2\n",
        "q4 = numero_4**2\n",
        "\n",
        "resultado = q1+q2+q3+q4\n",
        "print(resultado)"
      ],
      "metadata": {
        "id": "zjbInbXFVkQ0"
      },
      "execution_count": null,
      "outputs": []
    },
    {
      "cell_type": "markdown",
      "source": [
        "# ***Exercicio 5***"
      ],
      "metadata": {
        "id": "vor1616lYQ6c"
      }
    },
    {
      "cell_type": "code",
      "source": [
        "peça = float(input(\"digite o valor da sua peça:\"))\n",
        "qntd = float(input(\"digite a sua quantidade:\"))\n",
        "\n",
        "total = peça * qntd\n",
        "print(total)"
      ],
      "metadata": {
        "id": "RYUlIJqNYb-q"
      },
      "execution_count": null,
      "outputs": []
    },
    {
      "cell_type": "code",
      "source": [
        "comissao = total * 0.05\n",
        "print(\"o valor da sua comissão é:\",comissao)"
      ],
      "metadata": {
        "colab": {
          "base_uri": "https://localhost:8080/"
        },
        "id": "ywCc_U58Y5-o",
        "outputId": "4ca81d44-f735-44f0-d60b-a8aefcccede1"
      },
      "execution_count": null,
      "outputs": [
        {
          "output_type": "stream",
          "name": "stdout",
          "text": [
            "o valor da sua comissão é: 25.0\n"
          ]
        }
      ]
    },
    {
      "cell_type": "markdown",
      "source": [
        "# ***Exercicio 6***"
      ],
      "metadata": {
        "id": "DYCAAfLkZSnd"
      }
    },
    {
      "cell_type": "code",
      "source": [
        "fabrica = float(input(\"digite o valor de fabrica:\"))\n",
        "imposto = float(input(\"digite o valor de seus impostos:\"))\n",
        "distribuidor = float(input(\"digite o valor do dsitribuidor:\"))\n"
      ],
      "metadata": {
        "colab": {
          "base_uri": "https://localhost:8080/"
        },
        "id": "BN2z_cI1bqjS",
        "outputId": "90714cfd-a6d0-4c6c-d8de-ccbc6814223f"
      },
      "execution_count": null,
      "outputs": [
        {
          "name": "stdout",
          "output_type": "stream",
          "text": [
            "digite o valor de fabrica:25000\n",
            "digite o valor de fabrica:45\n",
            "digite o valor de fabrica:28\n"
          ]
        }
      ]
    },
    {
      "cell_type": "code",
      "source": [
        "imp = imposto / 100\n",
        "\n",
        "c1 = fabrica * imp\n",
        "\n",
        "pcimp = fabrica + c1\n",
        "\n",
        "dis = distribuidor / 100\n",
        "\n",
        "c2 = pcimp * dis\n",
        "\n",
        "total = pcimp + c2\n",
        "print(\"o valor do seu é:\",total)"
      ],
      "metadata": {
        "id": "4UUSYoSQb7YQ"
      },
      "execution_count": null,
      "outputs": []
    },
    {
      "cell_type": "markdown",
      "source": [
        "# ***Exercicio  7***"
      ],
      "metadata": {
        "id": "QMFOO5BaejCX"
      }
    },
    {
      "cell_type": "code",
      "source": [
        "horas = float(input(\"digite as suas horas:\"))\n",
        "minutos = float(input(\"digite os seus minutos:\"))\n"
      ],
      "metadata": {
        "colab": {
          "base_uri": "https://localhost:8080/"
        },
        "id": "KsOAfQGoepkY",
        "outputId": "3bf1fc13-90ce-4c75-8979-ba9dcf425732"
      },
      "execution_count": 2,
      "outputs": [
        {
          "name": "stdout",
          "output_type": "stream",
          "text": [
            "digite as suas horas:3\n",
            "digite os seus minutos:40\n"
          ]
        }
      ]
    },
    {
      "cell_type": "code",
      "source": [
        "dec = minutos / 60\n",
        "total = horas + dec\n",
        "print(total)"
      ],
      "metadata": {
        "id": "Zml01qnue-K1",
        "colab": {
          "base_uri": "https://localhost:8080/"
        },
        "outputId": "ee401338-ea11-416d-cd13-17fa15c048af"
      },
      "execution_count": 3,
      "outputs": [
        {
          "output_type": "stream",
          "name": "stdout",
          "text": [
            "3.6666666666666665\n"
          ]
        }
      ]
    },
    {
      "cell_type": "markdown",
      "source": [
        "# ***Exercicio 8 ***"
      ],
      "metadata": {
        "id": "swGTL64JfON8"
      }
    },
    {
      "cell_type": "code",
      "source": [
        "horas = float(input(\"digite o valor de horas trabalhadas:\"))\n",
        "minutos = float(input(\"digite o valor de minutos trabalhados:\"))\n",
        "ganho = float(input(\"digite o valor que ganha por hora\"))\n",
        "\n",
        "\n"
      ],
      "metadata": {
        "id": "S277j-iWfRjH",
        "colab": {
          "base_uri": "https://localhost:8080/"
        },
        "outputId": "62159047-9b6d-46b5-816a-f82e63b436d4"
      },
      "execution_count": 7,
      "outputs": [
        {
          "name": "stdout",
          "output_type": "stream",
          "text": [
            "digite o valor de horas trabalhadas:20\n",
            "digite o valor de minutos trabalhados:0\n",
            "digite o valor que ganha por hora25\n"
          ]
        }
      ]
    },
    {
      "cell_type": "code",
      "source": [
        "dec = minutos / 60\n",
        "tempo = horas + dec\n",
        "ganho_total = tempo  * ganho\n",
        "total = ganho_total * 1.70\n",
        "print(total)\n"
      ],
      "metadata": {
        "colab": {
          "base_uri": "https://localhost:8080/"
        },
        "id": "u_Ar7bStE-Ma",
        "outputId": "558241a7-c439-43ff-ebee-5c1f62f4edee"
      },
      "execution_count": 9,
      "outputs": [
        {
          "output_type": "stream",
          "name": "stdout",
          "text": [
            "850.0\n"
          ]
        }
      ]
    },
    {
      "cell_type": "markdown",
      "source": [
        "# ***Exercicio 9 ***"
      ],
      "metadata": {
        "id": "qMVUi5m_F7y-"
      }
    },
    {
      "cell_type": "code",
      "source": [
        "km_p = float(input(\"digite a distancia percorrida:\"))\n",
        "consumo = float(input(\"digite o consumo do seu carro:\"))\n",
        "media = float(input(\"digite o valor da sua gasolina:\"))\n",
        "\n",
        "utili = (consumo/100) * km_p\n",
        "consumo_t = utili * media\n",
        "consumo_t"
      ],
      "metadata": {
        "colab": {
          "base_uri": "https://localhost:8080/"
        },
        "id": "2ChBO6OBF7Xa",
        "outputId": "ab276db2-a608-4611-a2e9-88825e341474"
      },
      "execution_count": 32,
      "outputs": [
        {
          "name": "stdout",
          "output_type": "stream",
          "text": [
            "digite a distancia percorrida:450\n",
            "digite o consumo do seu carro:10\n",
            "digite o valor da sua gasolina:4.50\n"
          ]
        },
        {
          "output_type": "execute_result",
          "data": {
            "text/plain": [
              "202.5"
            ]
          },
          "metadata": {},
          "execution_count": 32
        }
      ]
    },
    {
      "cell_type": "markdown",
      "source": [
        "# ***Exercicio 10***"
      ],
      "metadata": {
        "id": "2p7Xv34pGIPg"
      }
    },
    {
      "cell_type": "code",
      "source": [
        "distancia = float(input(\"digite a distancia percorrida:\"))\n",
        "qtde_horas = float(input(\"digite a qntd de horas gastas:\"))\n",
        "qtde_min = float(input(\"digite a qntd de minutos gastos:\"))\n"
      ],
      "metadata": {
        "colab": {
          "base_uri": "https://localhost:8080/"
        },
        "id": "2ltyZNKHGQbU",
        "outputId": "3e729c28-1280-4eff-e447-713adceceeeb"
      },
      "execution_count": 13,
      "outputs": [
        {
          "name": "stdout",
          "output_type": "stream",
          "text": [
            "digite a distancia percorrida:150\n",
            "digite a qntd de horas gastas:1\n",
            "digite a qntd de minutos gastos:13\n"
          ]
        }
      ]
    },
    {
      "cell_type": "code",
      "source": [
        "tempo_total = qtde_horas + (qtde_min/60)\n",
        "velocidade = distancia / tempo_total\n",
        "velo = round(velocidade,2)\n",
        "\n",
        "(print(\"A velocidade média foi de\",velo,\"km/h\"))"
      ],
      "metadata": {
        "colab": {
          "base_uri": "https://localhost:8080/"
        },
        "id": "p8Gdz3-rGpkb",
        "outputId": "96cff462-ccdb-4a15-98f9-0b60588587a4"
      },
      "execution_count": 25,
      "outputs": [
        {
          "output_type": "stream",
          "name": "stdout",
          "text": [
            "A velocidade média foi de 123.29 km/h\n"
          ]
        }
      ]
    }
  ]
}